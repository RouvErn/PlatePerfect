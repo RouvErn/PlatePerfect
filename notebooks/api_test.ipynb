{
 "cells": [
  {
   "cell_type": "code",
   "execution_count": null,
   "metadata": {},
   "outputs": [],
   "source": [
    "import requests\n",
    "\n",
    "def get_calories(food):\n",
    "    url = \"https://api.calorieninjas.com/v1/nutrition?query=\"\n",
    "\n",
    "    headers = {\n",
    "        'X-Api-Key': 'w210jDXcjkPMbH1kJaOKoA==S8t1b5l9MvkPhZkQ'\n",
    "    }\n",
    "\n",
    "    response = requests.get(url + food, headers=headers).json()\n",
    "\n",
    "    return response\n",
    "\n",
    "\n",
    "for index, label in data.iterrows():\n",
    "    data['calories'] = get_calories(label)"
   ]
  }
 ],
 "metadata": {
  "language_info": {
   "name": "python"
  }
 },
 "nbformat": 4,
 "nbformat_minor": 2
}
